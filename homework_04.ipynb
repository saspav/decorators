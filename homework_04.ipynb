{
 "cells": [
  {
   "cell_type": "markdown",
   "metadata": {
    "id": "QY4qPJPpgyIS"
   },
   "source": [
    "# Домашнее задание: декораторы"
   ]
  },
  {
   "cell_type": "markdown",
   "metadata": {
    "id": "Chacc6YchldZ"
   },
   "source": [
    "## Импорт библиотек, установка констант"
   ]
  },
  {
   "cell_type": "code",
   "execution_count": 1,
   "metadata": {
    "id": "w8iKrWvwhrFd"
   },
   "outputs": [],
   "source": [
    "import re\n",
    "import time\n",
    "import requests\n",
    "\n",
    "from functools import wraps"
   ]
  },
  {
   "cell_type": "code",
   "execution_count": 2,
   "metadata": {
    "id": "-LRkS0fSi8Np"
   },
   "outputs": [],
   "source": [
    "BOOK_PATH = 'https://www.gutenberg.org/files/2638/2638-0.txt'"
   ]
  },
  {
   "cell_type": "code",
   "execution_count": 3,
   "metadata": {},
   "outputs": [],
   "source": [
    "def convert_seconds(time_apply, time_format=False):\n",
    "    try:\n",
    "        time_apply = float(time_apply)\n",
    "    except ValueError:\n",
    "        time_apply = 0\n",
    "    if isinstance(time_apply, (int, float)):\n",
    "        hrs = time_apply // 3600\n",
    "        mns = time_apply % 3600\n",
    "        sec = mns % 60\n",
    "        time_string = ''\n",
    "        if hrs:\n",
    "            time_string = f'{hrs:.0f} час '\n",
    "        if mns // 60 or hrs:\n",
    "            time_string += f'{mns // 60:.0f} мин '\n",
    "        if time_format:\n",
    "            return f'{int(hrs)}:{int(mns // 60):02}:{int(sec):02}'\n",
    "        return f'{time_string}{sec:.3f} сек'"
   ]
  },
  {
   "cell_type": "markdown",
   "metadata": {
    "id": "kARfL8ifg4MH"
   },
   "source": [
    "## Задание 1"
   ]
  },
  {
   "cell_type": "code",
   "execution_count": 4,
   "metadata": {
    "id": "hNHNWPhngrUl"
   },
   "outputs": [],
   "source": [
    "def benchmark(func):\n",
    "    \"\"\"\n",
    "    Декоратор, выводящий время, которое заняло выполнение декорируемой функции\n",
    "    \"\"\"\n",
    "\n",
    "    @wraps(func)\n",
    "    def wrapper(*args, **kwargs):\n",
    "        start = time.perf_counter()\n",
    "        result = func(*args, **kwargs)\n",
    "        end = time.perf_counter()\n",
    "        print(f'Время выполнения функции {func.__name__}: {convert_seconds(end - start)}')\n",
    "        return result\n",
    "\n",
    "    return wrapper"
   ]
  },
  {
   "cell_type": "markdown",
   "metadata": {
    "id": "tGlbUKjihL5n"
   },
   "source": [
    "## Задание 2"
   ]
  },
  {
   "cell_type": "code",
   "execution_count": 5,
   "metadata": {
    "id": "wugOZDLqhNe-"
   },
   "outputs": [],
   "source": [
    "def logging(func):\n",
    "    \"\"\"\n",
    "    Декоратор, который выводит параметры, с которыми была вызвана функция\n",
    "    \"\"\"\n",
    "\n",
    "    @wraps(func)\n",
    "    def wrapper(*args, **kwargs):\n",
    "        print(f'Функция вызвана с параметрами:\\n{args}, {kwargs}')\n",
    "        return func(*args, **kwargs)\n",
    "\n",
    "    return wrapper"
   ]
  },
  {
   "cell_type": "markdown",
   "metadata": {
    "id": "Sq1tv5fshTfv"
   },
   "source": [
    "## Задание 3"
   ]
  },
  {
   "cell_type": "code",
   "execution_count": 6,
   "metadata": {
    "id": "9nyvuxXkhVeb"
   },
   "outputs": [],
   "source": [
    "def counter(func):\n",
    "    \"\"\"\n",
    "    Декоратор, считающий и выводящий количество вызовов декорируемой функции\n",
    "    \"\"\"\n",
    "\n",
    "    def wrapper(*args, **kwargs):\n",
    "        result = func(*args, **kwargs)\n",
    "        wrapper.call_count += 1\n",
    "        print(f\"Функция '{func.__name__}' была вызвана {wrapper.call_count} раз(а).\")\n",
    "        return result\n",
    "\n",
    "    wrapper.call_count = 0  # Инициализируем счетчик\n",
    "    return wrapper"
   ]
  },
  {
   "cell_type": "markdown",
   "metadata": {
    "id": "uHn8Adfshz5q"
   },
   "source": [
    "## Задание 4"
   ]
  },
  {
   "cell_type": "code",
   "execution_count": 7,
   "metadata": {
    "id": "R7uu6WtGifNX"
   },
   "outputs": [],
   "source": [
    "def memo(func):\n",
    "    \"\"\"\n",
    "    Декоратор, запоминающий результаты исполнения функции func,\n",
    "    чьи аргументы args должны быть хешируемыми\n",
    "    \"\"\"\n",
    "    cache = {}\n",
    "\n",
    "    def func_get_memo(*args):\n",
    "        if args not in cache:\n",
    "            cache[args] = func(*args)\n",
    "        return cache[args]\n",
    "\n",
    "    func_get_memo.cache = cache\n",
    "    return func_get_memo"
   ]
  },
  {
   "cell_type": "markdown",
   "metadata": {
    "id": "Zn5UQCa_izxo"
   },
   "source": [
    "## Тестирование"
   ]
  },
  {
   "cell_type": "code",
   "execution_count": 8,
   "metadata": {
    "id": "CHCJ64I8i2QB"
   },
   "outputs": [
    {
     "name": "stdout",
     "output_type": "stream",
     "text": [
      "Функция вызвана с параметрами:\n",
      "('whole',), {}\n",
      "Время выполнения функции word_count: 3.578 сек\n",
      "Функция 'word_count' была вызвана 1 раз(а).\n",
      "Cлово whole встречается 176 раз\n"
     ]
    }
   ],
   "source": [
    "@counter\n",
    "@logging\n",
    "@benchmark\n",
    "def word_count(word, url=BOOK_PATH):\n",
    "    \"\"\"\n",
    "    Функция для посчета указанного слова на html-странице\n",
    "    \"\"\"\n",
    "\n",
    "    # отправляем запрос в библиотеку Gutenberg и забираем текст\n",
    "    raw = requests.get(url).text\n",
    "\n",
    "    # заменяем в тексте все небуквенные символы на пробелы\n",
    "    processed_book = re.sub('[\\W]+' , ' ', raw).lower()\n",
    "\n",
    "    # считаем\n",
    "    cnt = len(re.findall(word.lower(), processed_book))\n",
    "\n",
    "    return f\"Cлово {word} встречается {cnt} раз\"\n",
    "\n",
    "print(word_count('whole'))"
   ]
  },
  {
   "cell_type": "code",
   "execution_count": 9,
   "metadata": {
    "id": "ZE4Rfn-hh3k3"
   },
   "outputs": [],
   "source": [
    "def fib(n):\n",
    "    if n < 2:\n",
    "        return n\n",
    "    return fib(n-2) + fib(n-1)"
   ]
  },
  {
   "cell_type": "code",
   "execution_count": 10,
   "metadata": {
    "id": "Io94NyjiiXG4"
   },
   "outputs": [
    {
     "name": "stdout",
     "output_type": "stream",
     "text": [
      "CPU times: total: 2.72 s\n",
      "Wall time: 2.72 s\n"
     ]
    },
    {
     "data": {
      "text/plain": [
       "24157817"
      ]
     },
     "execution_count": 10,
     "metadata": {},
     "output_type": "execute_result"
    }
   ],
   "source": [
    "%%time\n",
    "# измеряем время выполнения\n",
    "fib(37)"
   ]
  },
  {
   "cell_type": "code",
   "execution_count": 11,
   "metadata": {
    "id": "W9B3e-t9iTUj"
   },
   "outputs": [],
   "source": [
    "@memo\n",
    "def fib(n):\n",
    "    if n < 2:\n",
    "        return n\n",
    "    return fib(n-2) + fib(n-1)"
   ]
  },
  {
   "cell_type": "code",
   "execution_count": 12,
   "metadata": {
    "id": "Sk6_4KQaidkh"
   },
   "outputs": [
    {
     "name": "stdout",
     "output_type": "stream",
     "text": [
      "CPU times: total: 0 ns\n",
      "Wall time: 0 ns\n"
     ]
    },
    {
     "data": {
      "text/plain": [
       "24157817"
      ]
     },
     "execution_count": 12,
     "metadata": {},
     "output_type": "execute_result"
    }
   ],
   "source": [
    "%%time\n",
    "# измеряем время выполнения\n",
    "fib(37)"
   ]
  },
  {
   "cell_type": "code",
   "execution_count": 13,
   "metadata": {},
   "outputs": [
    {
     "name": "stdout",
     "output_type": "stream",
     "text": [
      "Функция вызвана с параметрами:\n",
      "(3,), {}\n",
      "Функция вызвана с параметрами:\n",
      "(1,), {}\n",
      "Функция 'fib' была вызвана 1 раз(а).\n",
      "Функция вызвана с параметрами:\n",
      "(2,), {}\n",
      "Функция вызвана с параметрами:\n",
      "(0,), {}\n",
      "Функция 'fib' была вызвана 2 раз(а).\n",
      "Функция вызвана с параметрами:\n",
      "(1,), {}\n",
      "Функция 'fib' была вызвана 3 раз(а).\n",
      "Функция 'fib' была вызвана 4 раз(а).\n",
      "Функция 'fib' была вызвана 5 раз(а).\n"
     ]
    },
    {
     "data": {
      "text/plain": [
       "2"
      ]
     },
     "execution_count": 13,
     "metadata": {},
     "output_type": "execute_result"
    }
   ],
   "source": [
    "# проверка как работает счетчик вызовов функции\n",
    "\n",
    "@logging\n",
    "@counter\n",
    "def fib(n):\n",
    "    if n < 2:\n",
    "        return n\n",
    "    return fib(n - 2) + fib(n - 1)\n",
    "\n",
    "fib(3)"
   ]
  },
  {
   "cell_type": "code",
   "execution_count": null,
   "metadata": {},
   "outputs": [],
   "source": []
  }
 ],
 "metadata": {
  "colab": {
   "provenance": []
  },
  "kernelspec": {
   "display_name": "Python 3 (ipykernel)",
   "language": "python",
   "name": "python3"
  },
  "language_info": {
   "codemirror_mode": {
    "name": "ipython",
    "version": 3
   },
   "file_extension": ".py",
   "mimetype": "text/x-python",
   "name": "python",
   "nbconvert_exporter": "python",
   "pygments_lexer": "ipython3",
   "version": "3.11.5"
  }
 },
 "nbformat": 4,
 "nbformat_minor": 1
}
